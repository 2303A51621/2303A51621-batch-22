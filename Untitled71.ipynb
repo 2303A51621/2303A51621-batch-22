{
  "nbformat": 4,
  "nbformat_minor": 0,
  "metadata": {
    "colab": {
      "provenance": [],
      "authorship_tag": "ABX9TyMXjoSbCpTtwMQWTazu5W7R",
      "include_colab_link": true
    },
    "kernelspec": {
      "name": "python3",
      "display_name": "Python 3"
    },
    "language_info": {
      "name": "python"
    }
  },
  "cells": [
    {
      "cell_type": "markdown",
      "metadata": {
        "id": "view-in-github",
        "colab_type": "text"
      },
      "source": [
        "<a href=\"https://colab.research.google.com/github/2303A51621/2303A51621-batch-22/blob/main/Untitled71.ipynb\" target=\"_parent\"><img src=\"https://colab.research.google.com/assets/colab-badge.svg\" alt=\"Open In Colab\"/></a>"
      ]
    },
    {
      "cell_type": "code",
      "execution_count": null,
      "metadata": {
        "colab": {
          "base_uri": "https://localhost:8080/"
        },
        "id": "v0yUJ88JMsoo",
        "outputId": "b8c4c8d6-257f-4935-dc74-abe507869ab0"
      },
      "outputs": [
        {
          "output_type": "stream",
          "name": "stdout",
          "text": [
            "First element: 10\n",
            "Last element: 50\n",
            "Slice[1:4]: [20 30 40]\n",
            "Every second element: [10 30 50]\n"
          ]
        }
      ],
      "source": [
        "import numpy as np\n",
        "arr = np.array([10,20,30,40,50])\n",
        "print(\"First element:\",arr[0])\n",
        "print(\"Last element:\",arr[-1])\n",
        "print(\"Slice[1:4]:\",arr[1:4])\n",
        "print(\"Every second element:\",arr[::2])"
      ]
    },
    {
      "cell_type": "code",
      "source": [
        "arr2=np.array([[1,2,3],[4,5,6]])\n",
        "print(\"Element at row 1,col2:\",arr2[0,1])\n",
        "print(\"second row:\",arr2[1::])\n",
        "print(\"Second column:\",arr2[:,1])"
      ],
      "metadata": {
        "colab": {
          "base_uri": "https://localhost:8080/"
        },
        "id": "-2gZbTR8NwpZ",
        "outputId": "e63245ad-3a02-456a-bffc-1de0b84d1167"
      },
      "execution_count": null,
      "outputs": [
        {
          "output_type": "stream",
          "name": "stdout",
          "text": [
            "Element at row 1,col2: 2\n",
            "second row: [[4 5 6]]\n",
            "Second column: [2 5]\n"
          ]
        }
      ]
    },
    {
      "cell_type": "code",
      "source": [
        "a = np.array([1,2,3])\n",
        "b = np.array([4,5,6])\n",
        "print(\"Addition:\",a+b)\n",
        "print(\"Subtraction:\",a-b)\n",
        "print(\"Multiplication:\",a*b)\n",
        "print(\"Division:\",a/b)\n",
        "print(\"Power:0\",a**2)"
      ],
      "metadata": {
        "colab": {
          "base_uri": "https://localhost:8080/"
        },
        "id": "1E64x8S6Py4X",
        "outputId": "afe658e5-3ece-4365-b605-8b49e3650d4b"
      },
      "execution_count": 5,
      "outputs": [
        {
          "output_type": "stream",
          "name": "stdout",
          "text": [
            "Addition: [5 7 9]\n",
            "Subtraction: [-3 -3 -3]\n",
            "Multiplication: [ 4 10 18]\n",
            "Division: [0.25 0.4  0.5 ]\n",
            "Power:0 [1 4 9]\n"
          ]
        }
      ]
    },
    {
      "cell_type": "code",
      "source": [
        "arr = np.array([[1,2,3],[4,5,6]])\n",
        "print(\"Sum:\",np.sum(arr))\n",
        "print(\"Max:\",np.max(arr))\n",
        "print(\"min:\",np.min(arr))\n",
        "print(\"Mean:\",np.mean(arr))\n",
        "print(\"Standard Deviation:\",np.std(arr))\n",
        "print(\"Sum along axis 0:\",np.sum(arr,axis=0))\n",
        "print(\"Sum along axis 1:\",np.sum(arr,axis=1))"
      ],
      "metadata": {
        "colab": {
          "base_uri": "https://localhost:8080/"
        },
        "id": "MBHMwzUWRBbQ",
        "outputId": "65e014ec-aba9-4a24-99ce-a87cee95dcdf"
      },
      "execution_count": 6,
      "outputs": [
        {
          "output_type": "stream",
          "name": "stdout",
          "text": [
            "Sum: 21\n",
            "Max: 6\n",
            "min: 1\n",
            "Mean: 3.5\n",
            "Standard Deviation: 1.707825127659933\n",
            "Sum along axis 0: [5 7 9]\n",
            "Sum along axis 1: [ 6 15]\n"
          ]
        }
      ]
    },
    {
      "cell_type": "code",
      "source": [
        "a = np.array([1,2,3])\n",
        "b = 5\n",
        "print(\"add scalar to array:\",a+b)\n",
        "c = np.array([[1],[2],[3]])\n",
        "d = np.array([4,5,6])\n",
        "print(\"Broadcasted sum:\\n\",c+d)"
      ],
      "metadata": {
        "colab": {
          "base_uri": "https://localhost:8080/"
        },
        "id": "e0gL71lcStZg",
        "outputId": "a54500e8-b6b3-4ccd-92f6-b4c2e434d1b4"
      },
      "execution_count": 7,
      "outputs": [
        {
          "output_type": "stream",
          "name": "stdout",
          "text": [
            "add scalar to array: [6 7 8]\n",
            "Broadcasted sum:\n",
            " [[5 6 7]\n",
            " [6 7 8]\n",
            " [7 8 9]]\n"
          ]
        }
      ]
    },
    {
      "cell_type": "code",
      "source": [
        "A = np.array([[1,2],[3,4]])\n",
        "B = np.array([[5,6],[7,8]])\n",
        "print(\"Matrix Multiplication:\\n\",np.dot(A,B))\n",
        "print(\"Transpose:\\n\",A.T)\n",
        "print(\"Inverse:\\n\",np.linalg.inv(A))\n",
        "print(\"Determinant:\",np.linalg.det(A))"
      ],
      "metadata": {
        "colab": {
          "base_uri": "https://localhost:8080/"
        },
        "id": "7uEZatnAUjbp",
        "outputId": "0f03cc92-e53e-4b67-baaa-8912fb029c61"
      },
      "execution_count": 9,
      "outputs": [
        {
          "output_type": "stream",
          "name": "stdout",
          "text": [
            "Matrix Multiplication:\n",
            " [[19 22]\n",
            " [43 50]]\n",
            "Transpose:\n",
            " [[1 3]\n",
            " [2 4]]\n",
            "Inverse:\n",
            " [[-2.   1. ]\n",
            " [ 1.5 -0.5]]\n",
            "Determinant: -2.0000000000000004\n"
          ]
        }
      ]
    }
  ]
}