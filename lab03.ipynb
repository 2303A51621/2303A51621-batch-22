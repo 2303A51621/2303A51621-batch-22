{
  "nbformat": 4,
  "nbformat_minor": 0,
  "metadata": {
    "colab": {
      "provenance": [],
      "authorship_tag": "ABX9TyPwlv8+Gi8GQEv2aXvB54WS",
      "include_colab_link": true
    },
    "kernelspec": {
      "name": "python3",
      "display_name": "Python 3"
    },
    "language_info": {
      "name": "python"
    }
  },
  "cells": [
    {
      "cell_type": "markdown",
      "metadata": {
        "id": "view-in-github",
        "colab_type": "text"
      },
      "source": [
        "<a href=\"https://colab.research.google.com/github/2303A51621/2303A51621-batch-22/blob/main/lab03.ipynb\" target=\"_parent\"><img src=\"https://colab.research.google.com/assets/colab-badge.svg\" alt=\"Open In Colab\"/></a>"
      ]
    },
    {
      "cell_type": "code",
      "execution_count": 1,
      "metadata": {
        "colab": {
          "base_uri": "https://localhost:8080/"
        },
        "id": "tB6lc2ZBZMnS",
        "outputId": "1e705b87-8a78-4e18-c071-1ddafbd6fe3a"
      },
      "outputs": [
        {
          "output_type": "stream",
          "name": "stdout",
          "text": [
            "Scores:\n",
            " [[88 78 64 92]\n",
            " [57 70 88 68]\n",
            " [72 60 60 73]\n",
            " [85 89 73 52]]\n",
            "Row Means: [80.5  70.75 66.25 74.75]\n",
            "Column Means: [75.5  74.25 71.25 71.25]\n",
            "Standard Deviation: 12.214073593605043\n",
            "Variance: 149.18359375\n",
            "Min: 52 at (np.int64(3), np.int64(3))\n",
            "Max: 92 at (np.int64(0), np.int64(3))\n"
          ]
        }
      ],
      "source": [
        "import numpy as np\n",
        "\n",
        "np.random.seed(42)\n",
        "scores = np.random.randint(50, 101, (4, 4))\n",
        "print(\"Scores:\\n\", scores)\n",
        "\n",
        "row_means = np.mean(scores, axis=1)\n",
        "col_means = np.mean(scores, axis=0)\n",
        "print(\"Row Means:\", row_means)\n",
        "print(\"Column Means:\", col_means)\n",
        "\n",
        "std_dev = np.std(scores)\n",
        "variance = np.var(scores)\n",
        "print(\"Standard Deviation:\", std_dev)\n",
        "print(\"Variance:\", variance)\n",
        "\n",
        "global_min = np.min(scores)\n",
        "global_max = np.max(scores)\n",
        "min_index = np.unravel_index(np.argmin(scores), scores.shape)\n",
        "max_index = np.unravel_index(np.argmax(scores), scores.shape)\n",
        "\n",
        "print(\"Min:\", global_min, \"at\", min_index)\n",
        "print(\"Max:\", global_max, \"at\", max_index)\n"
      ]
    },
    {
      "cell_type": "code",
      "source": [
        "import numpy as np\n",
        "\n",
        "np.random.seed(42)\n",
        "image = np.random.randint(0, 256, (3, 3, 3))\n",
        "print(\"Image:\\n\", image)\n",
        "\n",
        "red = image[:, :, 0]\n",
        "green = image[:, :, 1]\n",
        "blue = image[:, :, 2]\n",
        "print(\"\\nRed Channel:\\n\", red)\n",
        "print(\"Green Channel:\\n\", green)\n",
        "print(\"Blue Channel:\\n\", blue)\n",
        "\n",
        "avg_red = np.mean(red)\n",
        "avg_green = np.mean(green)\n",
        "avg_blue = np.mean(blue)\n",
        "print(\"\\nAverage Red:\", avg_red)\n",
        "print(\"Average Green:\", avg_green)\n",
        "print(\"Average Blue:\", avg_blue)\n",
        "\n",
        "bright_image = np.clip(image + 50, 0, 255)\n",
        "print(\"\\nBrightened Image:\\n\", bright_image)\n"
      ],
      "metadata": {
        "colab": {
          "base_uri": "https://localhost:8080/"
        },
        "id": "U9ghjrlrbc3c",
        "outputId": "8e6e80f5-8d88-46dd-bb0e-2e612d876bcd"
      },
      "execution_count": 2,
      "outputs": [
        {
          "output_type": "stream",
          "name": "stdout",
          "text": [
            "Image:\n",
            " [[[102 179  92]\n",
            "  [ 14 106  71]\n",
            "  [188  20 102]]\n",
            "\n",
            " [[121 210 214]\n",
            "  [ 74 202  87]\n",
            "  [116  99 103]]\n",
            "\n",
            " [[151 130 149]\n",
            "  [ 52   1  87]\n",
            "  [235 157  37]]]\n",
            "\n",
            "Red Channel:\n",
            " [[102  14 188]\n",
            " [121  74 116]\n",
            " [151  52 235]]\n",
            "Green Channel:\n",
            " [[179 106  20]\n",
            " [210 202  99]\n",
            " [130   1 157]]\n",
            "Blue Channel:\n",
            " [[ 92  71 102]\n",
            " [214  87 103]\n",
            " [149  87  37]]\n",
            "\n",
            "Average Red: 117.0\n",
            "Average Green: 122.66666666666667\n",
            "Average Blue: 104.66666666666667\n",
            "\n",
            "Brightened Image:\n",
            " [[[152 229 142]\n",
            "  [ 64 156 121]\n",
            "  [238  70 152]]\n",
            "\n",
            " [[171 255 255]\n",
            "  [124 252 137]\n",
            "  [166 149 153]]\n",
            "\n",
            " [[201 180 199]\n",
            "  [102  51 137]\n",
            "  [255 207  87]]]\n"
          ]
        }
      ]
    }
  ]
}