{
  "nbformat": 4,
  "nbformat_minor": 0,
  "metadata": {
    "colab": {
      "provenance": [],
      "authorship_tag": "ABX9TyPmgsx0MGkkvJG3QBJKzCwm",
      "include_colab_link": true
    },
    "kernelspec": {
      "name": "python3",
      "display_name": "Python 3"
    },
    "language_info": {
      "name": "python"
    }
  },
  "cells": [
    {
      "cell_type": "markdown",
      "metadata": {
        "id": "view-in-github",
        "colab_type": "text"
      },
      "source": [
        "<a href=\"https://colab.research.google.com/github/2303A51621/2303A51621-batch-22/blob/main/22%5C08%5C2025.ipynb\" target=\"_parent\"><img src=\"https://colab.research.google.com/assets/colab-badge.svg\" alt=\"Open In Colab\"/></a>"
      ]
    },
    {
      "cell_type": "code",
      "execution_count": 1,
      "metadata": {
        "colab": {
          "base_uri": "https://localhost:8080/"
        },
        "id": "0EGXWx82E2nc",
        "outputId": "94e165c0-5bbb-451d-b680-a5c33fc73d5b"
      },
      "outputs": [
        {
          "output_type": "stream",
          "name": "stdout",
          "text": [
            "1D Array: [1 2 3 4]\n"
          ]
        }
      ],
      "source": [
        "import numpy as np\n",
        "arr1=np.array([1,2,3,4])\n",
        "print(\"1D Array:\",arr1)"
      ]
    },
    {
      "cell_type": "code",
      "source": [
        "arr2=np.array([[1,2,3],[4,5,6]])\n",
        "print(\"2D Array:\\n\",arr2)"
      ],
      "metadata": {
        "colab": {
          "base_uri": "https://localhost:8080/"
        },
        "id": "-8WiJYWmFQxv",
        "outputId": "8afa693e-addc-4659-9a9d-5ae19ca37137"
      },
      "execution_count": 2,
      "outputs": [
        {
          "output_type": "stream",
          "name": "stdout",
          "text": [
            "2D Array:\n",
            " [[1 2 3]\n",
            " [4 5 6]]\n"
          ]
        }
      ]
    },
    {
      "cell_type": "code",
      "source": [
        "zeros_arr=np.zeros((3,3))\n",
        "print(\"Zeros Array:\\n\",zeros_arr)"
      ],
      "metadata": {
        "colab": {
          "base_uri": "https://localhost:8080/"
        },
        "id": "TIlmGMoXFu4-",
        "outputId": "d583caa5-5924-44e4-98d7-b7ee6c25de90"
      },
      "execution_count": 3,
      "outputs": [
        {
          "output_type": "stream",
          "name": "stdout",
          "text": [
            "Zeros Array:\n",
            " [[0. 0. 0.]\n",
            " [0. 0. 0.]\n",
            " [0. 0. 0.]]\n"
          ]
        }
      ]
    },
    {
      "cell_type": "code",
      "source": [
        "ones_arr=np.ones((2,4))\n",
        "print(\"Ones Array:\\n\",ones_arr)"
      ],
      "metadata": {
        "colab": {
          "base_uri": "https://localhost:8080/"
        },
        "id": "8ti-m4rHGBF-",
        "outputId": "55bb73a8-08a8-4df8-dcd6-3bf0290d177b"
      },
      "execution_count": 4,
      "outputs": [
        {
          "output_type": "stream",
          "name": "stdout",
          "text": [
            "Ones Array:\n",
            " [[1. 1. 1. 1.]\n",
            " [1. 1. 1. 1.]]\n"
          ]
        }
      ]
    },
    {
      "cell_type": "code",
      "source": [
        "arr = np.array([[1,2,3],[4,5,6]])\n",
        "print(\"shape:\",arr.shape)\n",
        "print(\"Dimension:\",arr.ndim)\n",
        "print(\"Data Type:\",arr.dtype)\n",
        "print(\"size:\",arr.size)\n",
        "print(\"Item Size:\",arr.itemsize)"
      ],
      "metadata": {
        "colab": {
          "base_uri": "https://localhost:8080/"
        },
        "id": "swWAoDq-GRwP",
        "outputId": "2a39103f-3381-4904-d88c-6a060a633a67"
      },
      "execution_count": 7,
      "outputs": [
        {
          "output_type": "stream",
          "name": "stdout",
          "text": [
            "shape: (2, 3)\n",
            "Dimension: 2\n",
            "Data Type: int64\n",
            "size: 6\n",
            "Item Size: 8\n"
          ]
        }
      ]
    },
    {
      "cell_type": "markdown",
      "source": [
        "Array Attributes"
      ],
      "metadata": {
        "id": "hm5rXOPaGoVe"
      }
    }
  ]
}