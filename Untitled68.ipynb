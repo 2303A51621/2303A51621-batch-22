{
  "nbformat": 4,
  "nbformat_minor": 0,
  "metadata": {
    "colab": {
      "provenance": [],
      "authorship_tag": "ABX9TyOytue+oU2SYE71/AuWr6Yq",
      "include_colab_link": true
    },
    "kernelspec": {
      "name": "python3",
      "display_name": "Python 3"
    },
    "language_info": {
      "name": "python"
    }
  },
  "cells": [
    {
      "cell_type": "markdown",
      "metadata": {
        "id": "view-in-github",
        "colab_type": "text"
      },
      "source": [
        "<a href=\"https://colab.research.google.com/github/2303A51621/2303A51621-batch-22/blob/main/Untitled68.ipynb\" target=\"_parent\"><img src=\"https://colab.research.google.com/assets/colab-badge.svg\" alt=\"Open In Colab\"/></a>"
      ]
    },
    {
      "cell_type": "code",
      "execution_count": 1,
      "metadata": {
        "colab": {
          "base_uri": "https://localhost:8080/"
        },
        "id": "4HkT3PX_Ed0h",
        "outputId": "92e8c651-f88f-49c6-fa4d-2852f2008111"
      },
      "outputs": [
        {
          "output_type": "stream",
          "name": "stdout",
          "text": [
            "file content:\n",
            " Hello,B.Tech Students! \n",
            "this is file handling in python. \n",
            "Kushal \n",
            "Sr university. \n",
            "\n",
            "first line: Hello,B.Tech Students! \n",
            "\n",
            "Second line: this is file handling in python. \n",
            "\n",
            "Third Line: Kushal \n",
            "\n",
            "all lines as list: ['Hello,B.Tech Students! \\n', 'this is file handling in python. \\n', 'Kushal \\n', 'Sr university. \\n']\n",
            "first line: ['Hello,B.Tech Students! \\n', 'this is file handling in python. \\n', 'Kushal \\n', 'Sr university. \\n', 'appending new data...\\n']\n"
          ]
        }
      ],
      "source": [
        "fp = open(\"example.txt\",\"w\")\n",
        "fp.write(\"Hello,B.Tech Students! \\n\")\n",
        "fp.write(\"this is file handling in python. \\n\")\n",
        "fp.write(\"Kushal \\n\")\n",
        "fp.write(\"Sr university. \\n\")\n",
        "fp.close()\n",
        "file = open(\"example.txt\",\"r\")\n",
        "content = file.read()\n",
        "print(\"file content:\\n\",content)\n",
        "file.close()\n",
        "file = open(\"example.txt\",\"r\")\n",
        "line1=file.readline()\n",
        "print(\"first line:\", line1)\n",
        "line2 = file.readline()\n",
        "print(\"Second line:\",line2)\n",
        "line3=file.readline()\n",
        "print(\"Third Line:\",line3)\n",
        "file.close()\n",
        "file = open(\"example.txt\",\"r\")\n",
        "lines = file.readlines()\n",
        "print(\"all lines as list:\",lines)\n",
        "file.close()\n",
        "file = open(\"example.txt\", \"a\")\n",
        "file.write(\"appending new data...\\n\")\n",
        "file.close()\n",
        "file = open(\"example.txt\",\"r\")\n",
        "lines1=file.readlines()\n",
        "print(\"first line:\", lines1)\n"
      ]
    },
    {
      "cell_type": "code",
      "source": [
        "import csv\n",
        "with open(\"data.csv\", \"w\",newline='')as fp:\n",
        "    wr = csv.writer(fp)\n",
        "    wr.writerows([[\"Name\",\"Age\",\"Course\"],[\"Kushal\",21,\"CSE\"],[\"Pavan\",22,\"ECE\"]])\n",
        "    with open(\"data.csv\", \"r\") as file:\n",
        "        re = csv.reader(file)\n",
        "        for row in re:\n",
        "            print(row)"
      ],
      "metadata": {
        "id": "z2_iy87LEpzY"
      },
      "execution_count": 2,
      "outputs": []
    }
  ]
}