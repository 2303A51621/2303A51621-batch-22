{
  "nbformat": 4,
  "nbformat_minor": 0,
  "metadata": {
    "colab": {
      "provenance": [],
      "authorship_tag": "ABX9TyPdZdLtsR5rIqvXcgTrKMxO",
      "include_colab_link": true
    },
    "kernelspec": {
      "name": "python3",
      "display_name": "Python 3"
    },
    "language_info": {
      "name": "python"
    }
  },
  "cells": [
    {
      "cell_type": "markdown",
      "metadata": {
        "id": "view-in-github",
        "colab_type": "text"
      },
      "source": [
        "<a href=\"https://colab.research.google.com/github/2303A51621/2303A51621-batch-22/blob/main/Lab%2001.ipynb\" target=\"_parent\"><img src=\"https://colab.research.google.com/assets/colab-badge.svg\" alt=\"Open In Colab\"/></a>"
      ]
    },
    {
      "cell_type": "code",
      "execution_count": 1,
      "metadata": {
        "colab": {
          "base_uri": "https://localhost:8080/"
        },
        "id": "I-uXQBF5P3n8",
        "outputId": "3da3e603-d41a-474e-fbf1-032ab9d11fb3"
      },
      "outputs": [
        {
          "output_type": "stream",
          "name": "stdout",
          "text": [
            "Factorial of 6: 720\n",
            "Permutations (nPr) of 6 items taken 3 at a time: 120\n",
            "Combinations (nCr) of 6 items taken 3 at a time: 20\n"
          ]
        }
      ],
      "source": [
        "def factorial(n):\n",
        "    if n == 0 or n == 1:\n",
        "        return 1\n",
        "    return n * factorial(n - 1)\n",
        "\n",
        "def permutations(n, r):\n",
        "    return factorial(n) // factorial(n - r)\n",
        "\n",
        "def combinations(n, r):\n",
        "    return factorial(n) // (factorial(r) * factorial(n - r))\n",
        "\n",
        "if __name__ == \"__main__\":\n",
        "    n = 6\n",
        "    r = 3\n",
        "    print(f\"Factorial of {n}: {factorial(n)}\")\n",
        "    print(f\"Permutations (nPr) of {n} items taken {r} at a time: {permutations(n, r)}\")\n",
        "    print(f\"Combinations (nCr) of {n} items taken {r} at a time: {combinations(n, r)}\")\n",
        "\n"
      ]
    },
    {
      "cell_type": "code",
      "source": [
        "import sys\n",
        "import math\n",
        "\n",
        "sys.setrecursionlimit(2000)\n",
        "\n",
        "def factorial_recursive(n):\n",
        "    if n == 0 or n == 1:\n",
        "        return 1\n",
        "    return n * factorial_recursive(n - 1)\n",
        "\n",
        "def factorial_iterative(n):\n",
        "    result = 1\n",
        "    for i in range(2, n + 1):\n",
        "        result *= i\n",
        "    return result\n",
        "\n",
        "try:\n",
        "    n = int(input(\"Enter a number to calculate factorial: \"))\n",
        "except:\n",
        "    print(\"Invalid input\")\n",
        "    exit()\n",
        "\n",
        "try:\n",
        "    print(\"Recursive factorial:\", factorial_recursive(n))\n",
        "except RecursionError:\n",
        "    print(\"RecursionError: number too large for recursive approach\")\n",
        "\n",
        "print(\"Iterative factorial:\", factorial_iterative(n))\n",
        "print(\"Math library factorial:\", math.factorial(n))\n"
      ],
      "metadata": {
        "id": "jRYpRNleV0NU"
      },
      "execution_count": null,
      "outputs": []
    }
  ]
}