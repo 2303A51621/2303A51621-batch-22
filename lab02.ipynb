{
  "nbformat": 4,
  "nbformat_minor": 0,
  "metadata": {
    "colab": {
      "provenance": [],
      "authorship_tag": "ABX9TyOIGi+6j7RCqpQxjQP3pjF+",
      "include_colab_link": true
    },
    "kernelspec": {
      "name": "python3",
      "display_name": "Python 3"
    },
    "language_info": {
      "name": "python"
    }
  },
  "cells": [
    {
      "cell_type": "markdown",
      "metadata": {
        "id": "view-in-github",
        "colab_type": "text"
      },
      "source": [
        "<a href=\"https://colab.research.google.com/github/2303A51621/2303A51621-batch-22/blob/main/lab02.ipynb\" target=\"_parent\"><img src=\"https://colab.research.google.com/assets/colab-badge.svg\" alt=\"Open In Colab\"/></a>"
      ]
    },
    {
      "cell_type": "code",
      "execution_count": null,
      "metadata": {
        "colab": {
          "base_uri": "https://localhost:8080/"
        },
        "id": "2BsVJuOJLwj2",
        "outputId": "b29e5b4e-c44f-41e6-b644-6cf2bcbb5135"
      },
      "outputs": [
        {
          "output_type": "stream",
          "name": "stdout",
          "text": [
            "Student Marks:\n",
            " [[85 78 92]\n",
            " [58 64 70]\n",
            " [90 88 95]\n",
            " [76 80 85]\n",
            " [69 72 60]]\n",
            "\n",
            "Average Marks per Student: [85.         64.         91.         80.33333333 67.        ]\n",
            "Minimum Marks per Student: [78 58 88 76 60]\n",
            "Maximum Marks per Student: [92 70 95 85 72]\n",
            "\n",
            "Marks of 1st and 3rd Students:\n",
            " [[85 78 92]\n",
            " [90 88 95]]\n",
            "\n",
            "Students scoring above 80 in any subject:\n",
            " [[85 78 92]\n",
            " [90 88 95]\n",
            " [76 80 85]]\n",
            "\n",
            "Subject-wise Performance (Each row = subject):\n",
            " [[85 58 90 76 69]\n",
            " [78 64 88 80 72]\n",
            " [92 70 95 85 60]]\n",
            "\n",
            "Math - Avg: 75.60, Min: 58, Max: 90\n",
            "\n",
            "Science - Avg: 76.40, Min: 64, Max: 88\n",
            "\n",
            "English - Avg: 80.40, Min: 60, Max: 95\n"
          ]
        }
      ],
      "source": [
        "import numpy as np\n",
        "\n",
        "marks = np.array([\n",
        "    [85, 78, 92],\n",
        "    [58, 64, 70],\n",
        "    [90, 88, 95],\n",
        "    [76, 80, 85],\n",
        "    [69, 72, 60]\n",
        "])\n",
        "\n",
        "print(\"Student Marks:\\n\", marks)\n",
        "\n",
        "average_marks = np.mean(marks, axis=1)\n",
        "min_marks = np.min(marks, axis=1)\n",
        "max_marks = np.max(marks, axis=1)\n",
        "\n",
        "print(\"\\nAverage Marks per Student:\", average_marks)\n",
        "print(\"Minimum Marks per Student:\", min_marks)\n",
        "print(\"Maximum Marks per Student:\", max_marks)\n",
        "\n",
        "student_1_3_marks = marks[[0, 2]]\n",
        "print(\"\\nMarks of 1st and 3rd Students:\\n\", student_1_3_marks)\n",
        "\n",
        "above_80 = np.any(marks > 80, axis=1)\n",
        "students_above_80 = marks[above_80]\n",
        "print(\"\\nStudents scoring above 80 in any subject:\\n\", students_above_80)\n",
        "\n",
        "subject_wise = marks.T\n",
        "print(\"\\nSubject-wise Performance (Each row = subject):\\n\", subject_wise)\n",
        "\n",
        "subject_names = ['Math', 'Science', 'English']\n",
        "for i, subject in enumerate(subject_names):\n",
        "    print(f\"\\n{subject} - Avg: {np.mean(subject_wise[i]):.2f}, Min: {np.min(subject_wise[i])}, Max: {np.max(subject_wise[i])}\")\n"
      ]
    }
  ]
}