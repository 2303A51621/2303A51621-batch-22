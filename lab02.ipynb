{
  "nbformat": 4,
  "nbformat_minor": 0,
  "metadata": {
    "colab": {
      "provenance": [],
      "authorship_tag": "ABX9TyPQve4Ii5slRtTydMAfVim/",
      "include_colab_link": true
    },
    "kernelspec": {
      "name": "python3",
      "display_name": "Python 3"
    },
    "language_info": {
      "name": "python"
    }
  },
  "cells": [
    {
      "cell_type": "markdown",
      "metadata": {
        "id": "view-in-github",
        "colab_type": "text"
      },
      "source": [
        "<a href=\"https://colab.research.google.com/github/2303A51621/2303A51621-batch-22/blob/main/lab02.ipynb\" target=\"_parent\"><img src=\"https://colab.research.google.com/assets/colab-badge.svg\" alt=\"Open In Colab\"/></a>"
      ]
    },
    {
      "cell_type": "code",
      "execution_count": 1,
      "metadata": {
        "colab": {
          "base_uri": "https://localhost:8080/"
        },
        "id": "r8IeWVJsYflP",
        "outputId": "6df8a6c9-fa73-4978-fd9d-4feaaeff2fdf"
      },
      "outputs": [
        {
          "output_type": "stream",
          "name": "stdout",
          "text": [
            "   OrderID Product  Quantity  Price  TotalSale  Discount\n",
            "0        1  Laptop         2    500       1000      50.0\n",
            "1        2   Phone         5    200       1000      50.0\n",
            "2        3  Tablet         3    300        900      45.0\n",
            "3        4  Laptop         1    600        600      30.0\n",
            "4        5   Phone        10    150       1500     150.0\n",
            "Orders with sale > 1000:\n",
            "    OrderID Product  Quantity  Price  TotalSale\n",
            "4        5   Phone        10    150       1500\n",
            "Most sold product: Phone\n"
          ]
        }
      ],
      "source": [
        "import pandas as pd\n",
        "\n",
        "data = {\n",
        "    \"OrderID\": [1, 2, 3, 4, 5],\n",
        "    \"Product\": [\"Laptop\", \"Phone\", \"Tablet\", \"Laptop\", \"Phone\"],\n",
        "    \"Quantity\": [2, 5, 3, 1, 10],\n",
        "    \"Price\": [500, 200, 300, 600, 150]\n",
        "}\n",
        "\n",
        "df = pd.DataFrame(data)\n",
        "df[\"TotalSale\"] = df[\"Quantity\"] * df[\"Price\"]\n",
        "high_sales = df[df[\"TotalSale\"] > 1000]\n",
        "most_sold = df.groupby(\"Product\")[\"Quantity\"].sum().idxmax()\n",
        "df[\"Discount\"] = df[\"TotalSale\"].apply(lambda x: 0.1*x if x > 1000 else 0.05*x)\n",
        "df.to_excel(\"sales_summary.xlsx\", index=False)\n",
        "\n",
        "print(df)\n",
        "print(\"Orders with sale > 1000:\\n\", high_sales)\n",
        "print(\"Most sold product:\", most_sold)\n"
      ]
    },
    {
      "cell_type": "code",
      "source": [
        "import pandas as pd\n",
        "import matplotlib.pyplot as plt\n",
        "\n",
        "budget = pd.DataFrame({\"Department\":[\"HR\",\"IT\",\"Finance\",\"Marketing\"],\"Budget\":[5000,12000,8000,10000]})\n",
        "expenses = pd.DataFrame({\"Department\":[\"HR\",\"IT\",\"Finance\",\"Marketing\"],\"Expenses\":[5500,11000,9000,9500]})\n",
        "\n",
        "df = pd.merge(budget, expenses, on=\"Department\")\n",
        "df[\"Variance\"] = df[\"Budget\"] - df[\"Expenses\"]\n",
        "exceeding = df[df[\"Expenses\"] > df[\"Budget\"]]\n",
        "df = df.sort_values(\"Variance\")\n",
        "\n",
        "print(df)\n",
        "print(\"Departments exceeding budget:\\n\", exceeding)\n",
        "\n",
        "df.plot(x=\"Department\", y=[\"Budget\",\"Expenses\"], kind=\"bar\")\n",
        "plt.show()\n"
      ],
      "metadata": {
        "colab": {
          "base_uri": "https://localhost:8080/",
          "height": 661
        },
        "id": "olldlFU4Y8UD",
        "outputId": "4a3df1d2-f38a-485f-dc68-e94f2c2aaada"
      },
      "execution_count": 2,
      "outputs": [
        {
          "output_type": "stream",
          "name": "stdout",
          "text": [
            "  Department  Budget  Expenses  Variance\n",
            "2    Finance    8000      9000     -1000\n",
            "0         HR    5000      5500      -500\n",
            "3  Marketing   10000      9500       500\n",
            "1         IT   12000     11000      1000\n",
            "Departments exceeding budget:\n",
            "   Department  Budget  Expenses  Variance\n",
            "0         HR    5000      5500      -500\n",
            "2    Finance    8000      9000     -1000\n"
          ]
        },
        {
          "output_type": "display_data",
          "data": {
            "text/plain": [
              "<Figure size 640x480 with 1 Axes>"
            ],
            "image/png": "[encoded data removed]"
          },
          "metadata": {}
        }
      ]
    }
  ]
}