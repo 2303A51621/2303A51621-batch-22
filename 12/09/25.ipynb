{
  "nbformat": 4,
  "nbformat_minor": 0,
  "metadata": {
    "colab": {
      "provenance": [],
      "authorship_tag": "ABX9TyNNhxpMh+1CgfZl+A7yg5RT",
      "include_colab_link": true
    },
    "kernelspec": {
      "name": "python3",
      "display_name": "Python 3"
    },
    "language_info": {
      "name": "python"
    }
  },
  "cells": [
    {
      "cell_type": "markdown",
      "metadata": {
        "id": "view-in-github",
        "colab_type": "text"
      },
      "source": [
        "<a href=\"https://colab.research.google.com/github/2303A51621/2303A51621-batch-22/blob/main/12/09/25.ipynb\" target=\"_parent\"><img src=\"https://colab.research.google.com/assets/colab-badge.svg\" alt=\"Open In Colab\"/></a>"
      ]
    },
    {
      "cell_type": "code",
      "execution_count": 2,
      "metadata": {
        "colab": {
          "base_uri": "https://localhost:8080/"
        },
        "id": "f4zKIkNKEeaL",
        "outputId": "4373e5aa-c589-4f83-c861-cfcb7993932e"
      },
      "outputs": [
        {
          "output_type": "stream",
          "name": "stdout",
          "text": [
            "Original DataFrame:\n",
            "    Name   Age  Marks\n",
            "0   Ravi  25.0   85.0\n",
            "1   Neha   NaN   90.0\n",
            "2  kiran  30.0    NaN\n",
            "3   Sita  28.0   92.0\n",
            "\n",
            "Check for missing values:\n",
            "    Name    Age  Marks\n",
            "0  False  False  False\n",
            "1  False   True  False\n",
            "2  False  False   True\n",
            "3  False  False  False\n"
          ]
        }
      ],
      "source": [
        "import pandas as pd\n",
        "import numpy as np\n",
        "data = {\n",
        "    'Name':['Ravi','Neha','kiran','Sita'],\n",
        "    'Age':[25,np.nan,30,28],\n",
        "    'Marks':[85,90,np.nan,92]\n",
        "}\n",
        "df= pd.DataFrame(data)\n",
        "print(\"Original DataFrame:\")\n",
        "print(df)\n",
        "print(\"\\nCheck for missing values:\")\n",
        "print(df.isnull())"
      ]
    },
    {
      "cell_type": "code",
      "source": [
        "# Drop rows with misssing values\n",
        "df_dropped=df.dropna()\n",
        "print(\"After Dropping Rows with NaN:\")\n",
        "print(df_dropped)"
      ],
      "metadata": {
        "colab": {
          "base_uri": "https://localhost:8080/"
        },
        "id": "XNpIqFhXHFpt",
        "outputId": "0e616c95-ff28-478b-f4e5-adedc18a383d"
      },
      "execution_count": 3,
      "outputs": [
        {
          "output_type": "stream",
          "name": "stdout",
          "text": [
            "After Dropping Rows with NaN:\n",
            "   Name   Age  Marks\n",
            "0  Ravi  25.0   85.0\n",
            "3  Sita  28.0   92.0\n"
          ]
        }
      ]
    },
    {
      "cell_type": "code",
      "source": [
        "# Filling misssing values with a constant\n",
        "df_filled = df.fillna(0)\n",
        "print (\"Filled with 0:\")\n",
        "print(df_filled)\n",
        "\n"
      ],
      "metadata": {
        "colab": {
          "base_uri": "https://localhost:8080/"
        },
        "id": "SFNBbDRZH7T8",
        "outputId": "3317e5db-6fcd-4ea6-f8b6-58b207fa1498"
      },
      "execution_count": 5,
      "outputs": [
        {
          "output_type": "stream",
          "name": "stdout",
          "text": [
            "Filled with 0:\n",
            "    Name   Age  Marks\n",
            "0   Ravi  25.0   85.0\n",
            "1   Neha   0.0   90.0\n",
            "2  kiran  30.0    0.0\n",
            "3   Sita  28.0   92.0\n"
          ]
        }
      ]
    },
    {
      "cell_type": "code",
      "source": [
        "#Fill misising with mean of column\n",
        "['Age']= df['Age'].fillna(df['Age'].mean())\n",
        "df['Mdfarks']= df['Marks'].fillna(df['Marks'].mean())\n",
        "print(\"\\nFilled with mean:\")\n",
        "print(df)"
      ],
      "metadata": {
        "colab": {
          "base_uri": "https://localhost:8080/"
        },
        "id": "a0EyLguwJV_5",
        "outputId": "f5323fd6-3170-40a5-9bba-3b0aa2cb447c"
      },
      "execution_count": 7,
      "outputs": [
        {
          "output_type": "stream",
          "name": "stdout",
          "text": [
            "\n",
            "Filled with mean:\n",
            "    Name        Age  Marks\n",
            "0   Ravi  25.000000   85.0\n",
            "1   Neha  27.666667   90.0\n",
            "2  kiran  30.000000   89.0\n",
            "3   Sita  28.000000   92.0\n"
          ]
        }
      ]
    },
    {
      "cell_type": "code",
      "source": [
        "data = {\n",
        "    'iD':['1','2','3','4'],\n",
        "    'Name':['Ravi','kushal','mani','sunny'],\n",
        "    'Marks':['85','90','78','92']\n",
        "}\n",
        "\n",
        "df = pd.DataFrame(data)\n",
        "print(\"Original Data Types:\")\n",
        "print(df.dtypes)\n",
        "\n",
        "df['iD'] = pd.to_numeric(df['iD'])\n",
        "df['Marks'] = pd.to_numeric(df['Marks'])\n",
        "\n",
        "print(\"\\nAfter Conversion:\")\n",
        "print(df.dtypes)\n"
      ],
      "metadata": {
        "colab": {
          "base_uri": "https://localhost:8080/"
        },
        "id": "hLBvO4G5Jv1h",
        "outputId": "4bfaf971-91f0-432d-ee92-1b2bdedb6b84"
      },
      "execution_count": 9,
      "outputs": [
        {
          "output_type": "stream",
          "name": "stdout",
          "text": [
            "Original Data Types:\n",
            "iD       object\n",
            "Name     object\n",
            "Marks    object\n",
            "dtype: object\n",
            "\n",
            "After Conversion:\n",
            "iD        int64\n",
            "Name     object\n",
            "Marks     int64\n",
            "dtype: object\n"
          ]
        }
      ]
    },
    {
      "cell_type": "code",
      "source": [
        "students=pd.DataFrame"
      ],
      "metadata": {
        "id": "RWso2XV2UBnm"
      },
      "execution_count": null,
      "outputs": []
    }
  ]
}